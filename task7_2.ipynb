{
  "nbformat": 4,
  "nbformat_minor": 0,
  "metadata": {
    "colab": {
      "provenance": [],
      "authorship_tag": "ABX9TyN6kDF/pHti14IM/1cZZ+gy"
    },
    "kernelspec": {
      "name": "python3",
      "display_name": "Python 3"
    },
    "language_info": {
      "name": "python"
    }
  },
  "cells": [
    {
      "cell_type": "code",
      "source": [
        "# task7_2.py\n",
        "\n",
        "def check_input(element):\n",
        "    \"\"\"\n",
        "    Проверяет, является ли элемент строкой.\n",
        "    :param element: Элемент списка\n",
        "    :return: True, если элемент строка, иначе False\n",
        "    \"\"\"\n",
        "    return isinstance(element, str)\n",
        "\n",
        "\n",
        "def get_substring(s):\n",
        "    \"\"\"\n",
        "    Находит самую длинную подстроку без повторяющихся символов.\n",
        "    :param s: Входная строка\n",
        "    :return: Самая длинная подстрока без повторений\n",
        "    \"\"\"\n",
        "    max_substring = \"\"\n",
        "    current_substring = \"\"\n",
        "    seen = set()\n",
        "\n",
        "    for char in s:\n",
        "        if char not in seen:\n",
        "            current_substring += char\n",
        "            seen.add(char)\n",
        "        else:\n",
        "            if len(current_substring) > len(max_substring):\n",
        "                max_substring = current_substring\n",
        "            start_index = current_substring.index(char)\n",
        "            current_substring = current_substring[start_index + 1:] + char\n",
        "            seen = set(current_substring)\n",
        "\n",
        "    if len(current_substring) > len(max_substring):\n",
        "        max_substring = current_substring\n",
        "\n",
        "    return max_substring\n",
        "\n",
        "\n",
        "def main():\n",
        "    \"\"\"\n",
        "    Читает список с клавиатуры, находит индекс самой длинной строки\n",
        "    и её самую длинную подстроку без повторений.\n",
        "    \"\"\"\n",
        "    # Ввод с клавиатуры\n",
        "    input_data = input()\n",
        "\n",
        "    # Преобразование ввода в список\n",
        "    input_list = eval(input_data) if input_data.startswith(\"[\") else input_data.split()\n",
        "\n",
        "    longest_string = \"\"\n",
        "    longest_index = -1\n",
        "\n",
        "    for i, element in enumerate(input_list):\n",
        "        if check_input(element) and len(element) > len(longest_string):\n",
        "            longest_string = element\n",
        "            longest_index = i\n",
        "\n",
        "    if longest_index == -1:\n",
        "        print(\"-1, ''\")\n",
        "    else:\n",
        "        longest_substring = get_substring(longest_string)\n",
        "        print(f\"{longest_index}, {repr(longest_substring)}\")\n",
        "\n",
        "\n",
        "# Вызов main() для тестирования\n",
        "if __name__ == \"__main__\":\n",
        "    main()\n"
      ],
      "metadata": {
        "colab": {
          "base_uri": "https://localhost:8080/"
        },
        "id": "9BxXax2UPjtW",
        "outputId": "5ff5c9f9-aa57-4b03-ce36-739472e12579"
      },
      "execution_count": 9,
      "outputs": [
        {
          "output_type": "stream",
          "name": "stdout",
          "text": [
            "7 88 \n",
            "1, '8'\n"
          ]
        }
      ]
    }
  ]
}